{
 "cells": [
  {
   "cell_type": "code",
   "execution_count": 1,
   "metadata": {},
   "outputs": [],
   "source": [
    "from matplotlib import pyplot as plt\n",
    "from Function import *\n",
    "from utils_Optimizer import *"
   ]
  },
  {
   "cell_type": "code",
   "execution_count": 2,
   "metadata": {},
   "outputs": [],
   "source": [
    "root = r\"..\\data\\CarTruck\"\n",
    "train_x_orig, train_y = load_data(root=root, set_type=\"train\")\n",
    "valid_x_orig, valid_y = load_data(root=root, set_type=\"valid\")\n",
    "test_x_orig, test_y = load_data(root=root, set_type=\"test\")"
   ]
  },
  {
   "cell_type": "code",
   "execution_count": 3,
   "metadata": {},
   "outputs": [
    {
     "name": "stdout",
     "output_type": "stream",
     "text": [
      "(977, 64, 64, 3)\n",
      "(1, 977)\n"
     ]
    }
   ],
   "source": [
    "print(train_x_orig.shape)\n",
    "print(train_y.shape)"
   ]
  },
  {
   "cell_type": "code",
   "execution_count": 4,
   "metadata": {},
   "outputs": [
    {
     "name": "stdout",
     "output_type": "stream",
     "text": [
      "1\n"
     ]
    },
    {
     "data": {
      "text/plain": [
       "<matplotlib.image.AxesImage at 0x21e35f74c40>"
      ]
     },
     "execution_count": 4,
     "metadata": {},
     "output_type": "execute_result"
    },
    {
     "data": {
      "image/png": "[encoded data removed]",
      "text/plain": [
       "<Figure size 432x288 with 1 Axes>"
      ]
     },
     "metadata": {
      "needs_background": "light"
     },
     "output_type": "display_data"
    }
   ],
   "source": [
    "i = 0\n",
    "print(train_y[i][0])\n",
    "plt.imshow(train_x_orig[i])"
   ]
  },
  {
   "cell_type": "code",
   "execution_count": 5,
   "metadata": {},
   "outputs": [
    {
     "name": "stdout",
     "output_type": "stream",
     "text": [
      "train_x's shape: (12288, 977)\n",
      "valid_x's shape: (12288, 194)\n",
      "test_x's shape: (12288, 96)\n"
     ]
    }
   ],
   "source": [
    "train_x_flatten = train_x_orig.reshape(train_x_orig.shape[0], -1).T   \n",
    "valid_x_flatten = valid_x_orig.reshape(valid_x_orig.shape[0], -1).T   \n",
    "test_x_flatten = test_x_orig.reshape(test_x_orig.shape[0], -1).T\n",
    "\n",
    "train_x = train_x_flatten/255\n",
    "valid_x = valid_x_flatten/255\n",
    "test_x = test_x_flatten/255\n",
    "\n",
    "print (\"train_x's shape: \" + str(train_x.shape))\n",
    "print (\"valid_x's shape: \" + str(valid_x.shape))\n",
    "print (\"test_x's shape: \" + str(test_x.shape))"
   ]
  },
  {
   "cell_type": "code",
   "execution_count": 6,
   "metadata": {},
   "outputs": [],
   "source": [
    "layers_dims = [train_x.shape[0], 128, 32, 8, 1] \n",
    "keep_probs = [0.7, 0.8, 0.87, 0.9]"
   ]
  },
  {
   "cell_type": "code",
   "execution_count": 7,
   "metadata": {},
   "outputs": [],
   "source": [
    "def L_layer_model(X_train, Y_train, X_valid, Y_valid, \n",
    "                  layers_dims, \n",
    "                  lambd=0.7, \n",
    "                  drop_out=True, \n",
    "                  keep_probs=keep_probs, \n",
    "                  learning_rate = 0.0075, \n",
    "                  mini_batch_size=64, \n",
    "                  beta=0.9, beta1=0.9, beta2=0.999, epsilon=1e-8, \n",
    "                  num_iterations = 3000, \n",
    "                  print_cost=False):\n",
    "\n",
    "    costs_train = []       \n",
    "    costs_valid = []                 \n",
    "    t = 0\n",
    "    parameters = initialize_parameters_deep(layers_dims)\n",
    "    \n",
    "    v, s = initialize_adam(parameters)\n",
    " \n",
    "    for i in range(0, num_iterations):\n",
    "        \n",
    "        minibatches_train = random_mini_batches(X_train, Y_train, mini_batch_size)\n",
    "        for minibatch in minibatches_train:\n",
    "            \n",
    "            (minibatch_X, minibatch_Y) = minibatch\n",
    "\n",
    "            AL_train, caches = L_model_forward(minibatch_X, parameters, keep_probs=keep_probs, drop_out=drop_out)\n",
    "            cost_train = compute_cost(AL_train, minibatch_Y, parameters, lambd)\n",
    "            \n",
    "            AL_valid, _ = L_model_forward(X_valid, parameters, keep_probs=keep_probs, drop_out=False)\n",
    "            cost_valid = compute_cost(AL_valid, Y_valid, parameters, lambd)\n",
    "\n",
    "            grads = L_model_backward(AL_train, Y_train, caches, lambd, drop_out=drop_out)\n",
    "\n",
    "            t = t + 1 # Adam counter\n",
    "            parameters, v, s = update_parameters_with_adam(parameters, \n",
    "                                                           grads, \n",
    "                                                           v, s,\n",
    "                                                           t, \n",
    "                                                           learning_rate, \n",
    "                                                           beta1, beta2, epsilon)\n",
    "\n",
    "        if print_cost and i % 100 == 0:\n",
    "            print (\"Train_cost after iteration %i: %f\" %(i, cost_train))\n",
    "            print (\"Valid_cost after iteration %i: %f\" %(i, cost_valid))\n",
    "        if print_cost and i % 100 == 0:\n",
    "            costs_train.append(cost_train)\n",
    "            costs_valid.append(cost_valid)\n",
    "            \n",
    "    plt.plot(np.squeeze(costs_train), color='blue', label='Train_cost')\n",
    "    plt.plot(np.squeeze(costs_valid), color='orange', label='Val_cost')\n",
    "    plt.ylabel('cost')\n",
    "    plt.xlabel('iterations (per hundreds)')\n",
    "    plt.title(\"Learning rate =\" + str(learning_rate))\n",
    "    plt.legend(loc='lower left', shadow=True)\n",
    "    plt.show()\n",
    "    \n",
    "    return parameters"
   ]
  },
  {
   "cell_type": "code",
   "execution_count": 8,
   "metadata": {},
   "outputs": [
    {
     "name": "stdout",
     "output_type": "stream",
     "text": [
      "Train_cost after iteration 0: 0.767740\n",
      "Valid_cost after iteration 0: 1.008745\n",
      "Train_cost after iteration 100: 0.737355\n",
      "Valid_cost after iteration 100: 0.975022\n"
     ]
    },
    {
     "data": {
      "image/png": "[encoded data removed]",
      "text/plain": [
       "<Figure size 432x288 with 1 Axes>"
      ]
     },
     "metadata": {
      "needs_background": "light"
     },
     "output_type": "display_data"
    }
   ],
   "source": [
    "parameters = L_layer_model(train_x, train_y, valid_x, valid_y, \n",
    "                           layers_dims, \n",
    "                           lambd=0.7, \n",
    "                           drop_out=True, \n",
    "                           keep_probs=keep_probs, \n",
    "                           num_iterations = 200, \n",
    "                           print_cost = True)"
   ]
  },
  {
   "cell_type": "code",
   "execution_count": null,
   "metadata": {},
   "outputs": [],
   "source": []
  }
 ],
 "metadata": {
  "kernelspec": {
   "display_name": "Python 3",
   "language": "python",
   "name": "python3"
  },
  "language_info": {
   "codemirror_mode": {
    "name": "ipython",
    "version": 3
   },
   "file_extension": ".py",
   "mimetype": "text/x-python",
   "name": "python",
   "nbconvert_exporter": "python",
   "pygments_lexer": "ipython3",
   "version": "3.9.16"
  },
  "orig_nbformat": 4
 },
 "nbformat": 4,
 "nbformat_minor": 2
}
